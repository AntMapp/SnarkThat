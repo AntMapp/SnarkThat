{
 "cells": [
  {
   "cell_type": "markdown",
   "id": "2dd5b5a6",
   "metadata": {},
   "source": [
    "# Project: Snark That"
   ]
  },
  {
   "cell_type": "markdown",
   "id": "6398d16a",
   "metadata": {},
   "source": [
    "## Overview"
   ]
  },
  {
   "cell_type": "markdown",
   "id": "39e101c1",
   "metadata": {},
   "source": [
    "This script serves as an analogy to the world of zkSNARKs functionality."
   ]
  },
  {
   "cell_type": "markdown",
   "id": "f4dd5eeb",
   "metadata": {},
   "source": [
    "zero knowledge (zk), alludes to confirmation that some exclusive information is shared between two parties; without revealing the information to either party."
   ]
  },
  {
   "cell_type": "markdown",
   "id": "49316e9e",
   "metadata": {},
   "source": [
    "SNARKs"
   ]
  },
  {
   "cell_type": "markdown",
   "id": "ccb0a8c3",
   "metadata": {},
   "source": [
    "Succinct Non-interactive ARgument of Knowledge"
   ]
  },
  {
   "cell_type": "markdown",
   "id": "c307e708",
   "metadata": {},
   "source": [
    "Succinct: relative size of information transferred.\n"
   ]
  },
  {
   "cell_type": "markdown",
   "id": "0d19f7c0",
   "metadata": {},
   "source": [
    "Non-interactive: none-to-little interaction. \n"
   ]
  },
  {
   "cell_type": "markdown",
   "id": "fd3ff34a",
   "metadata": {},
   "source": [
    "ARguments: Verifier protected against computationally limited provers.\n"
   ]
  },
  {
   "cell_type": "markdown",
   "id": "44377835",
   "metadata": {},
   "source": [
    "Knowledge: Proof constructed with 'witness' at its core."
   ]
  },
  {
   "cell_type": "code",
   "execution_count": null,
   "id": "6c4aab69",
   "metadata": {},
   "outputs": [],
   "source": []
  },
  {
   "cell_type": "markdown",
   "id": "b638c1f9",
   "metadata": {},
   "source": [
    "I find it very interesting that the zkSNARK takes advantage of homomorphic polynomials, its functionality pivoting from the mathematical interpolation concept: Lagrange polynonials. Where this concept lends its advantage is:"
   ]
  },
  {
   "cell_type": "markdown",
   "id": "6ff38847",
   "metadata": {},
   "source": [
    "1. polynomials, which can be understood as a relation between points (a geometric space in an n-D field; where n is an integer>0), can be used to model the relationship between multiple gates.\n",
    "2. the interpolation, or educated guess work to infer the most apt polynomial, constructs the best representation of the relationship via a basis of monomials (e.g. (x+1), (x-2), etc.)"
   ]
  },
  {
   "cell_type": "markdown",
   "id": "9067baa9",
   "metadata": {},
   "source": [
    "The polynomial interpolation is quite intriguing to me; it's as though you can feel the flow of the relationships through the peaks and troughs of the polynomials. It navigates my mind to another interpolation method called Chebyshev polynomials. These use a series of sines and cosine functions (a harmonic dance of waves) to build a polynomial representation of the relationships. I wonder if this interpolation method would work here, and if it would add or detract from any performance. "
   ]
  },
  {
   "cell_type": "markdown",
   "id": "eddc4861",
   "metadata": {},
   "source": [
    "## Features"
   ]
  },
  {
   "cell_type": "markdown",
   "id": "97ef62e8",
   "metadata": {},
   "source": [
    "interface:"
   ]
  },
  {
   "cell_type": "markdown",
   "id": "4ae24995",
   "metadata": {},
   "source": [
    "'python3 interface_main.py export --r [insert any string]':"
   ]
  },
  {
   "cell_type": "markdown",
   "id": "ef7f78e4",
   "metadata": {},
   "source": [
    "prints the Rank-1 constraint system specific to this project."
   ]
  },
  {
   "cell_type": "markdown",
   "id": "f362eab3",
   "metadata": {},
   "source": [
    "'python3 interface_main.py prove --a [insert integer] --b [insert integer]'"
   ]
  },
  {
   "cell_type": "markdown",
   "id": "afc0a4af",
   "metadata": {},
   "source": [
    "Generates a solution vector (witness) specific to inputs"
   ]
  },
  {
   "cell_type": "markdown",
   "id": "563c8432",
   "metadata": {},
   "source": [
    "'python3 interface_main.py verify  --a [insert integer] --b [insert integer]'"
   ]
  },
  {
   "cell_type": "markdown",
   "id": "c37eb2a5",
   "metadata": {},
   "source": [
    "computes logic gates; confirms prover-verifier validity or not."
   ]
  },
  {
   "cell_type": "markdown",
   "id": "bd8742e4",
   "metadata": {},
   "source": [
    "'python3 interface_main.py plot  --p [insert any string]'"
   ]
  },
  {
   "cell_type": "markdown",
   "id": "880ee538",
   "metadata": {},
   "source": [
    "outputs graph of QAP polynomials"
   ]
  },
  {
   "cell_type": "markdown",
   "id": "758897f1",
   "metadata": {},
   "source": [
    "## Why this is not secure?"
   ]
  },
  {
   "cell_type": "markdown",
   "id": "ca917faa",
   "metadata": {},
   "source": [
    "'Succinct' is a holy grail in a world of ever-increasing transaction speeds and information-transfer. Hence, the Quadratic Arithmetic Program benefits R1CS conceptually; via processing the relationship (via some polynomials) as opposed to individual data points."
   ]
  },
  {
   "cell_type": "markdown",
   "id": "7e095124",
   "metadata": {},
   "source": [
    "In theory, this is apt for encryption technology. Though, the security risk is introduced due to measuring the function relationship among many polynomials over one datapoint (x,y) as opposed to a set of datapoints [xi,yi]. "
   ]
  },
  {
   "cell_type": "markdown",
   "id": "1b4f0dd3",
   "metadata": {},
   "source": [
    "There is still a layer of security, however this metric over one data point increases a falsifier's likelihood to produce a trivial outcome."
   ]
  },
  {
   "cell_type": "markdown",
   "id": "aaf676cb",
   "metadata": {},
   "source": [
    "Hence, the degree of confidentiality lost due to this increased probability of 'guessing' inputs leads to a NullSpace, without having access to the 'secret' information. (i.e. falsifier can produce false zeroes -- false proofs)."
   ]
  },
  {
   "cell_type": "code",
   "execution_count": null,
   "id": "e4ae2775",
   "metadata": {},
   "outputs": [],
   "source": []
  }
 ],
 "metadata": {
  "kernelspec": {
   "display_name": "Python 3.8.9 64-bit",
   "language": "python",
   "name": "python3"
  },
  "language_info": {
   "codemirror_mode": {
    "name": "ipython",
    "version": 3
   },
   "file_extension": ".py",
   "mimetype": "text/x-python",
   "name": "python",
   "nbconvert_exporter": "python",
   "pygments_lexer": "ipython3",
   "version": "3.8.9"
  },
  "vscode": {
   "interpreter": {
    "hash": "31f2aee4e71d21fbe5cf8b01ff0e069b9275f58929596ceb00d14d90e3e16cd6"
   }
  }
 },
 "nbformat": 4,
 "nbformat_minor": 5
}
