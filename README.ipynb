{
 "cells": [
  {
   "cell_type": "markdown",
   "id": "2dd5b5a6",
   "metadata": {},
   "source": [
    "# Project: Snark That"
   ]
  },
  {
   "cell_type": "markdown",
   "id": "6398d16a",
   "metadata": {},
   "source": [
    "## Overview"
   ]
  },
  {
   "cell_type": "markdown",
   "id": "39e101c1",
   "metadata": {},
   "source": [
    "This script serves as an analogy to the world of zkSNARKs functionality."
   ]
  },
  {
   "cell_type": "markdown",
   "id": "f4dd5eeb",
   "metadata": {},
   "source": [
    "zero knowledge (zk), alludes to confirmation that some exclusive information is shared between two parties; without revealing the information to either party."
   ]
  },
  {
   "cell_type": "markdown",
   "id": "49316e9e",
   "metadata": {},
   "source": [
    "SNARKs"
   ]
  },
  {
   "cell_type": "markdown",
   "id": "ccb0a8c3",
   "metadata": {},
   "source": [
    "Succinct Non-interactive ARgument of Knowledge"
   ]
  },
  {
   "cell_type": "markdown",
   "id": "c307e708",
   "metadata": {},
   "source": [
    "Succinct: relative size of information transferred.\n"
   ]
  },
  {
   "cell_type": "markdown",
   "id": "0d19f7c0",
   "metadata": {},
   "source": [
    "Non-interactive: none-to-little interaction. \n"
   ]
  },
  {
   "cell_type": "markdown",
   "id": "fd3ff34a",
   "metadata": {},
   "source": [
    "ARguments: Verifier protected against computationally limited provers.\n"
   ]
  },
  {
   "cell_type": "markdown",
   "id": "44377835",
   "metadata": {},
   "source": [
    "Knowledge: Proof constructed with 'witness' at its core."
   ]
  },
  {
   "cell_type": "markdown",
   "id": "eddc4861",
   "metadata": {},
   "source": [
    "## Features"
   ]
  },
  {
   "cell_type": "markdown",
   "id": "97ef62e8",
   "metadata": {},
   "source": [
    "interface:"
   ]
  },
  {
   "cell_type": "markdown",
   "id": "4ae24995",
   "metadata": {},
   "source": [
    "'python3 export --r [insert any string]':"
   ]
  },
  {
   "cell_type": "markdown",
   "id": "ef7f78e4",
   "metadata": {},
   "source": [
    "prints the Rank-1 constraint system specific to this project."
   ]
  },
  {
   "cell_type": "markdown",
   "id": "f362eab3",
   "metadata": {},
   "source": [
    "'python3 prove --a [insert integer] --b [insert integer]'"
   ]
  },
  {
   "cell_type": "markdown",
   "id": "afc0a4af",
   "metadata": {},
   "source": [
    "Generates a solution vector (witness) specific to inputs"
   ]
  },
  {
   "cell_type": "markdown",
   "id": "563c8432",
   "metadata": {},
   "source": [
    "'python3 verify  --a [insert integer] --b [insert integer]'"
   ]
  },
  {
   "cell_type": "markdown",
   "id": "c37eb2a5",
   "metadata": {},
   "source": [
    "computes logic gates; confirms prover-verifier validity or not."
   ]
  },
  {
   "cell_type": "markdown",
   "id": "758897f1",
   "metadata": {},
   "source": [
    "## Why this is not secure?"
   ]
  },
  {
   "cell_type": "markdown",
   "id": "ca917faa",
   "metadata": {},
   "source": [
    "'Succinct' is a holy grail in a world of ever-increasing transaction speeds and information-transfer. Hence, the Quadratic Arithmetic Program benefits R1CS conceptually; via processing the relationship (via some polynomials) as opposed to individual data points."
   ]
  },
  {
   "cell_type": "markdown",
   "id": "7e095124",
   "metadata": {},
   "source": [
    "In theory, this is apt for encryption technology. Though, the security risk is introduced due to measuring the function relationship among many polynomials over one datapoint (x,y) as opposed to a set of datapoints [xi,yi]. "
   ]
  },
  {
   "cell_type": "markdown",
   "id": "1b4f0dd3",
   "metadata": {},
   "source": [
    "There is still a layer of security, however this metric over one data point increases a falsifier's likelihood to produce a trivial outcome."
   ]
  },
  {
   "cell_type": "markdown",
   "id": "aaf676cb",
   "metadata": {},
   "source": [
    "Hence, the degree of confidentiality lost due to this increased probability of 'guessing' inputs leads to a NullSpace, without having access to the 'secret' information. (i.e. falsifier can produce false zeroes -- false proofs)."
   ]
  }
 ],
 "metadata": {
  "kernelspec": {
   "display_name": "Python 3",
   "language": "python",
   "name": "python3"
  },
  "language_info": {
   "codemirror_mode": {
    "name": "ipython",
    "version": 3
   },
   "file_extension": ".py",
   "mimetype": "text/x-python",
   "name": "python",
   "nbconvert_exporter": "python",
   "pygments_lexer": "ipython3",
   "version": "3.8.8"
  }
 },
 "nbformat": 4,
 "nbformat_minor": 5
}
